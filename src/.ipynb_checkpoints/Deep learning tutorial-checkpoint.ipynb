{
 "cells": [
  {
   "cell_type": "markdown",
   "metadata": {},
   "source": [
    "MNIST Tutorial"
   ]
  },
  {
   "cell_type": "code",
   "execution_count": 1,
   "metadata": {
    "collapsed": false
   },
   "outputs": [],
   "source": [
    "%matplotlib inline\n",
    "import matplotlib.pyplot as plt\n",
    "import numpy as np"
   ]
  },
  {
   "cell_type": "markdown",
   "metadata": {},
   "source": [
    "Try the next lines. If not working, download the data and extract them in the working directory."
   ]
  },
  {
   "cell_type": "code",
   "execution_count": 2,
   "metadata": {
    "collapsed": false
   },
   "outputs": [
    {
     "name": "stdout",
     "output_type": "stream",
     "text": [
      "Extracting MNIST_data/train-images-idx3-ubyte.gz\n",
      "Extracting MNIST_data/train-labels-idx1-ubyte.gz\n",
      "Extracting MNIST_data/t10k-images-idx3-ubyte.gz\n",
      "Extracting MNIST_data/t10k-labels-idx1-ubyte.gz\n",
      "(55000, 784)\n",
      "(55000, 10)\n",
      "[ 0.  0.  0.  0.  0.  0.  0.  1.  0.  0.]\n"
     ]
    }
   ],
   "source": [
    "from tensorflow.examples.tutorials.mnist import input_data\n",
    "mnist = input_data.read_data_sets('MNIST_data', one_hot=True)\n",
    "print(mnist.train.images.shape)\n",
    "print(mnist.train.labels.shape)\n",
    "print(mnist.train.labels[0])"
   ]
  },
  {
   "cell_type": "markdown",
   "metadata": {},
   "source": [
    "Compute some interesting statistics on Dataset"
   ]
  },
  {
   "cell_type": "code",
   "execution_count": 3,
   "metadata": {
    "collapsed": false
   },
   "outputs": [
    {
     "name": "stdout",
     "output_type": "stream",
     "text": [
      "5444 examples with the label 0\n",
      "6179 examples with the label 1\n",
      "5470 examples with the label 2\n",
      "5638 examples with the label 3\n",
      "5307 examples with the label 4\n",
      "4987 examples with the label 5\n",
      "5417 examples with the label 6\n",
      "5715 examples with the label 7\n",
      "5389 examples with the label 8\n",
      "5454 examples with the label 9\n"
     ]
    }
   ],
   "source": [
    "lbl, counts = # Compute the number of occurences of each labels\n",
    "for l, c in zip(lbl, counts):\n",
    "    print \"{0} examples with the label {1}\".format(c, l)"
   ]
  },
  {
   "cell_type": "code",
   "execution_count": 7,
   "metadata": {
    "collapsed": true
   },
   "outputs": [],
   "source": [
    "#Display some images"
   ]
  },
  {
   "cell_type": "markdown",
   "metadata": {},
   "source": [
    "Variable Initialization"
   ]
  },
  {
   "cell_type": "code",
   "execution_count": 10,
   "metadata": {
    "collapsed": true
   },
   "outputs": [],
   "source": [
    "tf.reset_default_graph()"
   ]
  },
  {
   "cell_type": "code",
   "execution_count": 11,
   "metadata": {
    "collapsed": false
   },
   "outputs": [],
   "source": [
    "import tensorflow as tf\n",
    "BLOCK = 28\n",
    "N_LABELS=10\n",
    "x = tf.placeholder(tf.float32, shape=[None, BLOCK, BLOCK, 1]) # For example\n",
    "y = tf.placeholder(tf.float32, shape=[None, N_LABELS])\n",
    "is_training = tf.placeholder(tf.bool, name=\"is_training\")"
   ]
  },
  {
   "cell_type": "markdown",
   "metadata": {},
   "source": [
    "Defining the model."
   ]
  },
  {
   "cell_type": "code",
   "execution_count": 8,
   "metadata": {
    "collapsed": true
   },
   "outputs": [],
   "source": [
    "# Define the model here"
   ]
  },
  {
   "cell_type": "markdown",
   "metadata": {},
   "source": [
    "Defining the loss to minimize"
   ]
  },
  {
   "cell_type": "code",
   "execution_count": 10,
   "metadata": {
    "collapsed": true
   },
   "outputs": [],
   "source": [
    "import tensorflow as tf"
   ]
  },
  {
   "cell_type": "code",
   "execution_count": 11,
   "metadata": {
    "collapsed": false
   },
   "outputs": [
    {
     "ename": "NameError",
     "evalue": "name 'logits' is not defined",
     "output_type": "error",
     "traceback": [
      "\u001b[1;31m---------------------------------------------------------------------------\u001b[0m",
      "\u001b[1;31mNameError\u001b[0m                                 Traceback (most recent call last)",
      "\u001b[1;32m<ipython-input-11-8b4ef065aadb>\u001b[0m in \u001b[0;36m<module>\u001b[1;34m()\u001b[0m\n\u001b[0;32m      1\u001b[0m \u001b[1;31m# Mean squared error\u001b[0m\u001b[1;33m\u001b[0m\u001b[1;33m\u001b[0m\u001b[0m\n\u001b[1;32m----> 2\u001b[1;33m \u001b[0mloss\u001b[0m \u001b[1;33m=\u001b[0m \u001b[0mtf\u001b[0m\u001b[1;33m.\u001b[0m\u001b[0mreduce_mean\u001b[0m\u001b[1;33m(\u001b[0m\u001b[0mtf\u001b[0m\u001b[1;33m.\u001b[0m\u001b[0msquared_difference\u001b[0m\u001b[1;33m(\u001b[0m\u001b[0mlogits\u001b[0m\u001b[1;33m,\u001b[0m \u001b[0my\u001b[0m\u001b[1;33m)\u001b[0m\u001b[1;33m)\u001b[0m\u001b[1;33m\u001b[0m\u001b[0m\n\u001b[0m\u001b[0;32m      3\u001b[0m \u001b[1;33m\u001b[0m\u001b[0m\n\u001b[0;32m      4\u001b[0m \u001b[1;31m# Change the loss for the cross entropy if you want\u001b[0m\u001b[1;33m\u001b[0m\u001b[1;33m\u001b[0m\u001b[0m\n\u001b[0;32m      5\u001b[0m \u001b[1;33m\u001b[0m\u001b[0m\n",
      "\u001b[1;31mNameError\u001b[0m: name 'logits' is not defined"
     ]
    }
   ],
   "source": [
    "# Mean squared error\n",
    "loss = tf.reduce_mean(tf.squared_difference(logits, y))\n",
    "\n",
    "# Change the loss for the cross entropy if you want\n",
    "\n",
    "train_step = tf.train.AdamOptimizer(1e-4).minimize(loss)"
   ]
  },
  {
   "cell_type": "code",
   "execution_count": 16,
   "metadata": {
    "collapsed": false,
    "scrolled": true
   },
   "outputs": [
    {
     "name": "stdout",
     "output_type": "stream",
     "text": [
      "Epoch index: 0\n",
      "Loss: 0.0897790417075\n",
      "Epoch index: 1\n",
      "Loss: 0.0897790417075\n",
      "Epoch index: 2\n",
      "Loss: 0.0897790417075\n",
      "Epoch index: 3\n",
      "Loss: 0.0897790417075\n"
     ]
    }
   ],
   "source": [
    "BATCH_SIZE=60\n",
    "N_EPOCH=4\n",
    "\n",
    "index = np.arange(0, mnist.train.images.shape[0], BATCH_SIZE)\n",
    "\n",
    "sess = tf.InteractiveSession()\n",
    "sess.run(tf.initialize_all_variables())\n",
    "\n",
    "for e in range(N_EPOCH):\n",
    "    print \"Epoch index: {}\".format(e)\n",
    "    for idx, (start, end) in enumerate(zip(index[:-1], index[1:])):\n",
    "        \n",
    "        xbatch, ybatch = mnist.train.images.reshape(-1, BLOCK, BLOCK, 1)[start:end, :,:,:],  mnist.train.labels[start:end,]\n",
    "        \n",
    "        if not(e%25) and (e>0):\n",
    "            # Train here\n",
    "        else:\n",
    "            # Compute loss here\n",
    "            # Also compute accuracy"
   ]
  },
  {
   "cell_type": "code",
   "execution_count": 54,
   "metadata": {
    "collapsed": false,
    "scrolled": true
   },
   "outputs": [
    {
     "name": "stdout",
     "output_type": "stream",
     "text": [
      "Batch index: 0\n",
      "Batch index: 1\n",
      "Batch index: 2\n"
     ]
    },
    {
     "name": "stderr",
     "output_type": "stream",
     "text": [
      "/usr/local/lib/python2.7/dist-packages/numpy/core/fromnumeric.py:2699: VisibleDeprecationWarning: `rank` is deprecated; use the `ndim` attribute or function instead. To find the rank of a matrix see `numpy.linalg.matrix_rank`.\n",
      "  VisibleDeprecationWarning)\n"
     ]
    },
    {
     "name": "stdout",
     "output_type": "stream",
     "text": [
      "Batch index: 3\n",
      "Batch index: 4\n",
      "Batch index: 5\n",
      "Batch index: 6\n",
      "Batch index: 7\n",
      "Batch index: 8\n",
      "Batch index: 9\n",
      "Batch index: 10\n",
      "Batch index: 11\n",
      "Batch index: 12\n",
      "Batch index: 13\n",
      "Batch index: 14\n",
      "Batch index: 15\n",
      "Batch index: 16\n",
      "Batch index: 17\n",
      "Batch index: 18\n",
      "Batch index: 19\n",
      "Batch index: 20\n",
      "Batch index: 21\n",
      "Batch index: 22\n",
      "Batch index: 23\n",
      "Batch index: 24\n",
      "Batch index: 25\n",
      "Batch index: 26\n",
      "Batch index: 27\n",
      "Batch index: 28\n",
      "Batch index: 29\n",
      "Batch index: 30\n",
      "Batch index: 31\n",
      "Batch index: 32\n",
      "Batch index: 33\n",
      "Batch index: 34\n",
      "Batch index: 35\n",
      "Batch index: 36\n",
      "Batch index: 37\n",
      "Batch index: 38\n",
      "Batch index: 39\n",
      "Batch index: 40\n",
      "Batch index: 41\n",
      "Batch index: 42\n",
      "Batch index: 43\n",
      "Batch index: 44\n",
      "Batch index: 45\n",
      "Batch index: 46\n",
      "Batch index: 47\n",
      "Batch index: 48\n",
      "Batch index: 49\n",
      "Batch index: 50\n",
      "Batch index: 51\n",
      "Batch index: 52\n",
      "Batch index: 53\n",
      "Batch index: 54\n",
      "Batch index: 55\n",
      "Batch index: 56\n",
      "Batch index: 57\n",
      "Batch index: 58\n",
      "Batch index: 59\n",
      "Batch index: 60\n",
      "Batch index: 61\n",
      "Batch index: 62\n",
      "Batch index: 63\n",
      "Batch index: 64\n",
      "Batch index: 65\n",
      "Batch index: 66\n",
      "Batch index: 67\n",
      "Batch index: 68\n",
      "Batch index: 69\n",
      "Batch index: 70\n",
      "Batch index: 71\n",
      "Batch index: 72\n",
      "Batch index: 73\n",
      "Batch index: 74\n",
      "Batch index: 75\n",
      "Batch index: 76\n",
      "Batch index: 77\n",
      "Batch index: 78\n",
      "Batch index: 79\n",
      "Batch index: 80\n",
      "Batch index: 81\n",
      "Batch index: 82\n",
      "Batch index: 83\n",
      "Batch index: 84\n",
      "Batch index: 85\n",
      "Batch index: 86\n",
      "Batch index: 87\n",
      "Batch index: 88\n",
      "Batch index: 89\n",
      "Batch index: 90\n",
      "Batch index: 91\n",
      "Batch index: 92\n",
      "Batch index: 93\n",
      "Batch index: 94\n",
      "Batch index: 95\n",
      "Batch index: 96\n",
      "Batch index: 97\n",
      "Batch index: 98\n",
      "Batch index: 99\n",
      "Batch index: 100\n",
      "Batch index: 101\n"
     ]
    }
   ],
   "source": [
    "from sklearn.metrics import confusion_matrix\n",
    "\n",
    "index = np.arange(0, mnist.test.images.shape[0], BATCH_SIZE)\n",
    "\n",
    "sess = tf.InteractiveSession()\n",
    "sess.run(tf.initialize_all_variables())\n",
    "\n",
    "cm=np.zeros((N_LABELS, N_LABELS))\n",
    "\n",
    "N_LIMIT=100\n",
    "\n",
    "# Compute confusion matrix\n"
   ]
  },
  {
   "cell_type": "code",
   "execution_count": 58,
   "metadata": {
    "collapsed": false
   },
   "outputs": [
    {
     "data": {
      "text/plain": [
       "<matplotlib.text.Text at 0x7f15a9d33fd0>"
      ]
     },
     "execution_count": 58,
     "metadata": {},
     "output_type": "execute_result"
    },
    {
     "data": {
      "image/png": "[encoded data removed]",
      "text/plain": [
       "<matplotlib.figure.Figure at 0x7f15c2603990>"
      ]
     },
     "metadata": {},
     "output_type": "display_data"
    }
   ],
   "source": [
    "plt.matshow(cm)\n",
    "plt.title(\"Confusion matrix\")"
   ]
  },
  {
   "cell_type": "code",
   "execution_count": 13,
   "metadata": {
    "collapsed": false
   },
   "outputs": [],
   "source": [
    "for lbl in range(10):\n",
    "    # Compute interesting statistics for performance evaluation on all classes\n",
    "    # Example: precision, recall\n",
    "    pass"
   ]
  },
  {
   "cell_type": "markdown",
   "metadata": {},
   "source": [
    "# Exercices\n",
    "* Fill the blanks\n",
    "* Create the graph of the loss during training\n",
    "* Compute training and testing performance\n",
    "* What is the best structure for this dataset?\n",
    "* Print the images where the net is wrong. Display using plt.imshow.\n",
    "* Compare the convolutional/deep learning approach with the classic machine learning pipeline? What are the usual best classifiers? Try them and compare the results and training time.\n",
    "* BONUS: Try the next dataset"
   ]
  }
 ],
 "metadata": {
  "kernelspec": {
   "display_name": "Python 2",
   "language": "python",
   "name": "python2"
  },
  "language_info": {
   "codemirror_mode": {
    "name": "ipython",
    "version": 2
   },
   "file_extension": ".py",
   "mimetype": "text/x-python",
   "name": "python",
   "nbconvert_exporter": "python",
   "pygments_lexer": "ipython2",
   "version": "2.7.10"
  }
 },
 "nbformat": 4,
 "nbformat_minor": 0
}
